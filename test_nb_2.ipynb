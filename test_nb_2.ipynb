{
 "cells": [
  {
   "cell_type": "code",
   "execution_count": 1,
   "metadata": {},
   "outputs": [],
   "source": [
    "from DataReader import DataReader"
   ]
  },
  {
   "cell_type": "code",
   "execution_count": 2,
   "metadata": {},
   "outputs": [],
   "source": [
    "data = DataReader('resume_1.pdf').create_json()"
   ]
  },
  {
   "cell_type": "code",
   "execution_count": 11,
   "metadata": {},
   "outputs": [],
   "source": [
    "import json\n",
    "import pprint"
   ]
  },
  {
   "cell_type": "code",
   "execution_count": 12,
   "metadata": {},
   "outputs": [
    {
     "name": "stdout",
     "output_type": "stream",
     "text": [
      "('{\\n'\n",
      " '   \"name\": \"resume_1.pdf\",\\n'\n",
      " '   \"uuid\": \"d110159a-a290-4497-b5e8-2a68c881ac97\",\\n'\n",
      " '   \"raw_text\": \"John Smith  \\\\nSenior Python Developer and Machine Learning '\n",
      " 'Engineer  \\\\n \\\\nEmail: john.smith@email.com  \\\\nLinkedIn: '\n",
      " 'linkedin.com/in/johnsmith  \\\\n \\\\nSummary  \\\\nExperienced Python developer '\n",
      " 'with a passion for solving complex problems and building scalable and '\n",
      " '\\\\nefficient systems. Proven ability to deliver high -quality software on '\n",
      " 'time and on budget. Skilled in a \\\\nvariety of technologies, including '\n",
      " 'machine learning, d ata analysis, and cloud computing. Seeking a '\n",
      " '\\\\nchallenging position as a Machine Learning Engineer.  \\\\n \\\\nProfessional '\n",
      " 'Experience  \\\\nABC Company  \\\\nSenior Python Developer, 2021 - Present  \\\\n '\n",
      " '\\\\nDeveloped and maintained a scalable and secure API for a leading e '\n",
      " '-commerce platf orm using Python, \\\\nDjango, and AWS.  \\\\nDesigned and '\n",
      " 'implemented a real -time recommendation system using collaborative filtering '\n",
      " 'and matrix \\\\nfactorization.  \\\\nImproved the accuracy of a fraud detection '\n",
      " 'system by 20% using machine learning algorithms such as \\\\nXGBoos t and '\n",
      " 'Random Forest.  \\\\nXYZ Corporation  \\\\nPython Developer, 2019 - 2021  \\\\n '\n",
      " '\\\\nBuilt and deployed a machine learning pipeline for a customer retention '\n",
      " 'model using Python, Scikit -\\\\nLearn, and AWS.  \\\\nAutomated the deployment '\n",
      " 'of data science models into production using Kub ernetes and Docker.  \\\\nLed '\n",
      " 'a team of 3 developers to develop a real -time chatbot using natural '\n",
      " 'language processing techniques.  \\\\nDEF Inc.  \\\\nSoftware Engineer, 2017 - '\n",
      " '2019  \",\\n'\n",
      " '   \"clean_text\": \"John Smith   Senior Python Developer and Machine Learning '\n",
      " 'Engineer     Email:    LinkedIn: linkedin.com/in/johnsmith     Summary   '\n",
      " 'Experienced Python developer with a passion for solving complex problems and '\n",
      " 'building scalable and  efficient systems. Proven ability to deliver high '\n",
      " '-quality software on time and on budget. Skilled in a  variety of '\n",
      " 'technologies, including machine learning, d ata analysis, and cloud '\n",
      " 'computing. Seeking a  challenging position as a Machine Learning '\n",
      " 'Engineer.     Professional Experience   ABC Company   Senior Python '\n",
      " 'Developer, 2021 - Present     Developed and maintained a scalable and secure '\n",
      " 'API for a leading e -commerce platf orm using Python,  Django, and AWS.   '\n",
      " 'Designed and implemented a real -time recommendation system using '\n",
      " 'collaborative filtering and matrix  factorization.   Improved the accuracy '\n",
      " 'of a fraud detection system by 20% using machine learning algorithms such '\n",
      " 'as  XGBoos t and Random Forest.   XYZ Corporation   Python Developer, 2019 - '\n",
      " '2021     Built and deployed a machine learning pipeline for a customer '\n",
      " 'retention model using Python, Scikit - Learn, and AWS.   Automated the '\n",
      " 'deployment of data science models into production using Kub ernetes and '\n",
      " 'Docker.   Led a team of 3 developers to develop a real -time chatbot using '\n",
      " 'natural language processing techniques.   DEF Inc.   Software Engineer, 2017 '\n",
      " '- 2019  \"\\n'\n",
      " '}')\n"
     ]
    }
   ],
   "source": [
    "pprint.pprint(json.dumps(data, indent=3))"
   ]
  },
  {
   "cell_type": "code",
   "execution_count": null,
   "metadata": {},
   "outputs": [],
   "source": []
  }
 ],
 "metadata": {
  "kernelspec": {
   "display_name": "venv",
   "language": "python",
   "name": "python3"
  },
  "language_info": {
   "codemirror_mode": {
    "name": "ipython",
    "version": 3
   },
   "file_extension": ".py",
   "mimetype": "text/x-python",
   "name": "python",
   "nbconvert_exporter": "python",
   "pygments_lexer": "ipython3",
   "version": "3.10.6"
  },
  "orig_nbformat": 4
 },
 "nbformat": 4,
 "nbformat_minor": 2
}
