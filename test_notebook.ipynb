{
 "cells": [
  {
   "cell_type": "code",
   "execution_count": 15,
   "metadata": {},
   "outputs": [],
   "source": [
    "from readpdf import read_single_pdf"
   ]
  },
  {
   "cell_type": "code",
   "execution_count": 21,
   "metadata": {},
   "outputs": [],
   "source": [
    "data = read_single_pdf('resume_1.pdf')"
   ]
  },
  {
   "cell_type": "code",
   "execution_count": 17,
   "metadata": {},
   "outputs": [],
   "source": [
    "import json\n",
    "from Extractor import DataExtractor\n",
    "from Utils import TextCleaner, EntityExtractor, generate_unique_id\n",
    "from KeytermsExtraction import KeytermExtractor"
   ]
  },
  {
   "cell_type": "code",
   "execution_count": 18,
   "metadata": {},
   "outputs": [],
   "source": [
    "class ParseResume:\n",
    "\n",
    "    def __init__(self, resume:str):\n",
    "        self.resume_data = resume\n",
    "        self.clean_data = TextCleaner.clean_string(self.resume_data)\n",
    "        self.entities = EntityExtractor.extract_entities(self.clean_data)\n",
    "        self.keyterms = KeytermExtractor(self.clean_data, 7).get_keyterms_based_on_sgrank()\n",
    "        self.name = DataExtractor(self.clean_data[:30]).extract_names()\n",
    "        self.experience = DataExtractor(self.clean_data).extract_experience()\n",
    "        self.emails = DataExtractor(self.resume_data).extract_emails()\n",
    "        self.phones = DataExtractor(self.resume_data).extract_phone_numbers()\n",
    "        self.years = DataExtractor(self.clean_data).extract_position_year()\n",
    "\n",
    "    def get_JSON(self) -> dict:\n",
    "\n",
    "        \"\"\"\n",
    "        Returns a dictionary of resume_data\n",
    "        \"\"\"\n",
    "        resume_dictionary = {\n",
    "            \"resume_data\": self.resume_data,\n",
    "            \"clean_data\": self.clean_data,\n",
    "            \"entities\": self.entities,\n",
    "            \"keyterms\": self.keyterms,\n",
    "            \"name\": self.name,\n",
    "            \"experience\": self.experience,\n",
    "            \"emails\": self.emails,\n",
    "            \"phones\": self.phones,\n",
    "            \"years\": self.years\n",
    "        }\n",
    "        \n",
    "        json_object = json.dumps(resume_dictionary, sort_keys=True, indent=9)\n",
    "\n",
    "        with open(\"resume.json\", \"w\") as outfile:\n",
    "            outfile.write(json_object)\n",
    "\n",
    "        return resume_dictionary\n",
    "        "
   ]
  },
  {
   "cell_type": "code",
   "execution_count": 22,
   "metadata": {},
   "outputs": [],
   "source": [
    "from pprint import pprint\n",
    "\n",
    "final_json = ParseResume(data[0]).get_JSON()"
   ]
  },
  {
   "cell_type": "code",
   "execution_count": 23,
   "metadata": {},
   "outputs": [
    {
     "name": "stdout",
     "output_type": "stream",
     "text": [
      "{'resume_data': 'John Smith  \\nSenior Python Developer and Machine Learning Engineer  \\n \\nEmail: john.smith@email.com  \\nLinkedIn: linkedin.com/in/johnsmith  \\n \\nSummary  \\nExperienced Python developer with a passion for solving complex problems and building scalable and \\nefficient systems. Proven ability to deliver high -quality software on time and on budget. Skilled in a \\nvariety of technologies, including machine learning, d ata analysis, and cloud computing. Seeking a \\nchallenging position as a Machine Learning Engineer.  \\n \\nProfessional Experience  \\nABC Company  \\nSenior Python Developer, 2021 - Present  \\n \\nDeveloped and maintained a scalable and secure API for a leading e -commerce platf orm using Python, \\nDjango, and AWS.  \\nDesigned and implemented a real -time recommendation system using collaborative filtering and matrix \\nfactorization.  \\nImproved the accuracy of a fraud detection system by 20% using machine learning algorithms such as \\nXGBoos t and Random Forest.  \\nXYZ Corporation  \\nPython Developer, 2019 - 2021  \\n \\nBuilt and deployed a machine learning pipeline for a customer retention model using Python, Scikit -\\nLearn, and AWS.  \\nAutomated the deployment of data science models into production using Kub ernetes and Docker.  \\nLed a team of 3 developers to develop a real -time chatbot using natural language processing techniques.  \\nDEF Inc.  \\nSoftware Engineer, 2017 - 2019  ', 'clean_data': 'John Smith  \\nSenior Python Developer and Machine Learning Engineer  \\n \\nEmail:   \\nLinkedIn: linkedin.com/in/johnsmith  \\n \\nSummary  \\nExperienced Python developer with a passion for solving complex problems and building scalable and \\nefficient systems. Proven ability to deliver high -quality software on time and on budget. Skilled in a \\nvariety of technologies, including machine learning, d ata analysis, and cloud computing. Seeking a \\nchallenging position as a Machine Learning Engineer.  \\n \\nProfessional Experience  \\nABC Company  \\nSenior Python Developer, 2021 - Present  \\n \\nDeveloped and maintained a scalable and secure API for a leading e -commerce platf orm using Python, \\nDjango, and AWS.  \\nDesigned and implemented a real -time recommendation system using collaborative filtering and matrix \\nfactorization.  \\nImproved the accuracy of a fraud detection system by 20% using machine learning algorithms such as \\nXGBoos t and Random Forest.  \\nXYZ Corporation  \\nPython Developer, 2019 - 2021  \\n \\nBuilt and deployed a machine learning pipeline for a customer retention model using Python, Scikit -\\nLearn, and AWS.  \\nAutomated the deployment of data science models into production using Kub ernetes and Docker.  \\nLed a team of 3 developers to develop a real -time chatbot using natural language processing techniques.  \\nDEF Inc.  \\nSoftware Engineer, 2017 - 2019  ', 'entities': ['Machine Learning Engineer', 'ABC Company  \\nSenior Python Developer', 'API', 'AWS', 'Random Forest', 'XYZ Corporation  \\nPython Developer', 'AWS', 'Kub', 'Docker', 'DEF Inc.', 'Software Engineer'], 'keyterms': [('Senior Python Developer', 0.36162654547705625), ('Machine Learning Engineer', 0.3416857945338747), ('machine learning', 0.018785341518291757), ('John Smith', 0.014458612525635272), ('-quality software', 0.01264018196368771), ('Python developer', 0.011351070811834132), ('efficient system', 0.011272347993315954)], 'name': ['John Smith'], 'experience': 'Experience  \\n ABC Company  \\n Senior Python Developer , 2021 - Present  \\n \\n Developed and maintained a scalable and secure API for a leading e -commerce platf orm using Python , \\n Django , and AWS .  \\n Designed and implemented a real -time recommendation system using collaborative filtering and matrix \\n factorization .  \\n Improved the accuracy of a fraud detection system by 20 % using machine learning algorithms such as \\n XGBoos t and Random Forest .  \\n XYZ Corporation  \\n Python Developer , 2019 - 2021  \\n \\n Built and deployed a machine learning pipeline for a customer retention model using Python , Scikit - \\n Learn , and AWS .  \\n Automated the deployment of data science models into production using Kub ernetes and Docker .  \\n Led a team of 3 developers to develop a real -time chatbot using natural language processing techniques .  \\n DEF Inc.  \\n Software Engineer , 2017 - 2019  ', 'emails': ['john.smith@email.com'], 'phones': [], 'years': [('Python Developer', '2019', '2021'), ('Software Engineer', '2017', '2019')]}\n"
     ]
    }
   ],
   "source": [
    "print(final_json)"
   ]
  },
  {
   "cell_type": "code",
   "execution_count": null,
   "metadata": {},
   "outputs": [],
   "source": []
  }
 ],
 "metadata": {
  "kernelspec": {
   "display_name": "venv",
   "language": "python",
   "name": "python3"
  },
  "language_info": {
   "codemirror_mode": {
    "name": "ipython",
    "version": 3
   },
   "file_extension": ".py",
   "mimetype": "text/x-python",
   "name": "python",
   "nbconvert_exporter": "python",
   "pygments_lexer": "ipython3",
   "version": "3.10.6"
  },
  "orig_nbformat": 4
 },
 "nbformat": 4,
 "nbformat_minor": 2
}
