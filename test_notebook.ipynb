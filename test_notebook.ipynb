{
 "cells": [
  {
   "cell_type": "code",
   "execution_count": 5,
   "metadata": {},
   "outputs": [],
   "source": [
    "import re\n",
    "import spacy\n",
    "nlp = spacy.load(\"en_core_web_md\")"
   ]
  },
  {
   "cell_type": "code",
   "execution_count": 6,
   "metadata": {},
   "outputs": [],
   "source": [
    "def read_text_file(file_path):\n",
    "    try:\n",
    "        with open(file_path, 'r') as file:\n",
    "            content = file.read()\n",
    "            return content\n",
    "    except FileNotFoundError:\n",
    "        print(f\"File '{file_path}' not found.\")\n",
    "        return None\n",
    "    except IOError:\n",
    "        print(f\"Error reading file '{file_path}'.\")\n",
    "        return None\n",
    "    \n",
    "def clean_string(text):\n",
    "    # Remove emails\n",
    "    text = re.sub(r'\\S+@\\S+', '', text)\n",
    "    # Remove links\n",
    "    text = re.sub(r'http\\S+', '', text)\n",
    "    # Remove new lines\n",
    "    text = text.replace('\\n', ' ')\n",
    "    # remote phone numbers\n",
    "    text = re.sub(r'^(\\+\\d{1,3})?[-.\\s]?\\(?\\d{3}\\)?[-.\\s]?\\d{3}[-.\\s]?\\d{4}$', '', text)\n",
    "    phone_pattern = r\"\\(?\\d{3}\\)?[-.\\s]?\\d{3}[-.\\s]?\\d{4}\"\n",
    "    text = re.sub(phone_pattern, '', text)\n",
    "    return text\n"
   ]
  },
  {
   "cell_type": "code",
   "execution_count": 7,
   "metadata": {},
   "outputs": [],
   "source": [
    "resume_1 = read_text_file('resume_1.txt')\n",
    "resume_2 = read_text_file('resume_2.txt')\n",
    "job_1 = read_text_file('job_1.txt')\n",
    "job_1 = read_text_file('job_2.txt')"
   ]
  },
  {
   "cell_type": "code",
   "execution_count": 8,
   "metadata": {},
   "outputs": [],
   "source": [
    "doc = nlp(resume_2)"
   ]
  },
  {
   "cell_type": "code",
   "execution_count": 10,
   "metadata": {},
   "outputs": [
    {
     "name": "stdout",
     "output_type": "stream",
     "text": [
      "John Smith Senior Python Developer Machine Learning Engineer Email john.smith@email.com LinkedIn Summary Experienced Python developer passion solving problems building systems Proven ability deliver quality software time budget variety technologies including machine learning data analysis cloud computing Seeking position Machine Learning Engineer Professional Experience ABC Company Senior Python Developer Present Developed maintained API leading e - commerce platform using Python Django AWS Designed implemented time recommendation system using filtering matrix factorization Improved accuracy fraud detection system % using machine learning algorithms XGBoost Random Forest XYZ Corporation Python Developer Built deployed machine learning pipeline customer retention model using Python Scikit Learn AWS Automated deployment data science models production using Kubernetes Docker Led team developers develop time chatbot using language processing techniques DEF Inc. Software Engineer Worked scale distributed system leading services company using Python Spark Designed implemented data pipeline ingesting processing amounts data using Apache Kafka Apache Hadoop Developed time series forecasting model predicting stock prices using Prophet ARIMA Projects Image Recognition using Convolutional Neural Networks Built learning model image recognition using TensorFlow Keras Achieved % accuracy CIFAR-10 dataset Deployed model using AWS Lambda API Gateway Fraud Detection using Graph Analytics Developed graph based algorithm fraud detection using Neo4j Python Reduced rate % compared rule based system Visualized graph using D3.js Flask Sentiment Analysis using Recurrent Neural Networks Built sentiment analysis model using LSTM Word2Vec Achieved % accuracy IMDb dataset Deployed model using Flask Docker Recommendation System using Collaborative Filtering Designed implemented filtering algorithm movie recommendation system Improved accuracy system % compared model Deployed model using AWS SageMaker Lambda Education Master Science Computer Science XYZ University Bachelor Engineering Computer Science ABC University Skills Programming languages Python Java C++ Machine learning frameworks Scikit Learn TensorFlow Keras PyTorch Data processing frameworks Spark Hadoop Kafka Cloud computing AWS GCP Databases SQL MongoDB Neo4j Web frameworks Django Flask React\n"
     ]
    }
   ],
   "source": [
    "# for token in doc:\n",
    "#     if (token.pos_ in ['PROPN', 'VERB', 'NOUN']):\n",
    "#         print(token.text)\n",
    "\n",
    "\n",
    "print(' '.join([token.text for token in doc if token.pos_ in ['PROPN', 'VERB', 'NOUN']]))"
   ]
  },
  {
   "attachments": {},
   "cell_type": "markdown",
   "metadata": {},
   "source": [
    "```python\n",
    "import spacy\n",
    "\n",
    "nlp = spacy.load(\"en_core_web_sm\")\n",
    "doc = nlp(\"Experienced Python full stack developer is looking at Experience Experienced buying U.K. startup for $1 billion with an experience of 20 years.\")\n",
    "\n",
    "for token in doc:\n",
    "    print(token.text, token.lemma_, token.pos_, token.tag_, token.dep_,\n",
    "            token.shape_, token.is_alpha, token.is_stop)\n",
    "```\n",
    "**Output**\n",
    "\n",
    "```Experienced experience VERB VBN amod Xxxxx True False\n",
    "Python Python PROPN NNP nsubj Xxxxx True False\n",
    "full full ADJ JJ amod xxxx True True\n",
    "stack stack NOUN NN compound xxxx True False\n",
    "developer developer NOUN NN nsubj xxxx True False\n",
    "is be AUX VBZ aux xx True True\n",
    "looking look VERB VBG ROOT xxxx True False\n",
    "at at ADP IN prep xx True True\n",
    "Experience experience NOUN NN compound Xxxxx True False\n",
    "Experienced experience VERB VBN amod Xxxxx True False\n",
    "buying buy VERB VBG compound xxxx True False\n",
    "U.K. U.K. PROPN NNP nsubj X.X. False False\n",
    "startup startup VERB VB dep xxxx True False\n",
    "for for ADP IN prep xxx True True\n",
    "$ $ SYM $ quantmod $ False False\n",
    "1 1 NUM CD compound d False False\n",
    "billion billion NUM CD pobj xxxx True False\n",
    "with with ADP IN prep xxxx True True\n",
    "an an DET DT det xx True True\n",
    "experience experience NOUN NN pobj xxxx True False\n",
    "of of ADP IN prep xx True True\n",
    "20 20 NUM CD nummod dd False False\n",
    "years year NOUN NNS pobj xxxx True False\n",
    ". . PUNCT . punct . False False\n",
    "```"
   ]
  },
  {
   "cell_type": "code",
   "execution_count": 14,
   "metadata": {},
   "outputs": [],
   "source": []
  }
 ],
 "metadata": {
  "kernelspec": {
   "display_name": "venv",
   "language": "python",
   "name": "python3"
  },
  "language_info": {
   "codemirror_mode": {
    "name": "ipython",
    "version": 3
   },
   "file_extension": ".py",
   "mimetype": "text/x-python",
   "name": "python",
   "nbconvert_exporter": "python",
   "pygments_lexer": "ipython3",
   "version": "3.10.6"
  },
  "orig_nbformat": 4
 },
 "nbformat": 4,
 "nbformat_minor": 2
}
